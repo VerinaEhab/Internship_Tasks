{
  "nbformat": 4,
  "nbformat_minor": 0,
  "metadata": {
    "colab": {
      "provenance": []
    },
    "kernelspec": {
      "name": "python3",
      "display_name": "Python 3"
    },
    "language_info": {
      "name": "python"
    }
  },
  "cells": [
    {
      "metadata": {
        "id": "GzfdMfk10NE6"
      },
      "cell_type": "markdown",
      "source": [
        "## Task_1: Prediction using Supervised ML\n",
        "### **Linear Regression**"
      ]
    },
    {
      "cell_type": "code",
      "source": [
        "import pandas as pd\n",
        "import numpy as np\n",
        "from sklearn.linear_model import LinearRegression\n",
        "from sklearn.model_selection import train_test_split\n",
        "from sklearn.metrics import r2_score\n",
        "from sklearn import metrics\n",
        "import requests\n",
        "\n",
        "# Load the data from the given URL\n",
        "url = \"http://bit.ly/w-data\"\n",
        "data = pd.read_csv(url)\n",
        "\n",
        "# Split the data into input (X) and target (y) variables\n",
        "X = data.iloc[:, :-1].values\n",
        "y = data.iloc[:, -1].values\n",
        "\n",
        "# Split the data into training and testing sets\n",
        "X_train, X_test, y_train, y_test = train_test_split(X, y, test_size=0.2, random_state=0)\n",
        "\n",
        "# Train the linear regression model\n",
        "regressor = LinearRegression()\n",
        "regressor.fit(X_train, y_train)\n",
        "\n",
        "# Predict the score for a given number of study hours\n",
        "study_hours = 9.25\n",
        "predicted_score = regressor.predict([[study_hours]])\n",
        "\n",
        "print(\"Predicted score for studying\", study_hours, \"hours/day:\", predicted_score[0])\n",
        "\n",
        "# Calculate the accuracy and the Mean Absolute Error of the model to evaluate it\n",
        "y_pred = regressor.predict(X_test)\n",
        "\n",
        "print(\"Accuracy:\",r2_score(y_test, y_pred))\n",
        "\n",
        "print('Mean Absolute Error:',metrics.mean_absolute_error(y_test, y_pred))\n"
      ],
      "metadata": {
        "colab": {
          "base_uri": "https://localhost:8080/"
        },
        "id": "8xF2oXSc_Bde",
        "outputId": "0398a82e-e8f5-41a1-96ca-cb2c784b4a7f"
      },
      "execution_count": null,
      "outputs": [
        {
          "output_type": "stream",
          "name": "stdout",
          "text": [
            "Predicted score for studying 9.25 hours/day: 93.69173248737539\n",
            "Accuracy: 0.9454906892105354\n",
            "Mean Absolute Error: 4.183859899002982\n"
          ]
        }
      ]
    }
  ]
}